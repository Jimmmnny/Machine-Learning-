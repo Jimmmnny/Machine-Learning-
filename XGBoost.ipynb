{
 "cells": [
  {
   "cell_type": "markdown",
   "id": "2f601c5e",
   "metadata": {},
   "source": [
    "1. Import data from a file\n",
    "2. Missing Data\n",
    "3. Formatting the Data for XGBoost\n",
    "4. Building a preliminary XGBoost Model\n",
    "5. Optimize Parameters with Cross Validation and GridSearch()\n",
    "6. Build, Drawing, Interpreting and Evaluating the optimized XGBoost Model\n"
   ]
  },
  {
   "cell_type": "code",
   "execution_count": 1,
   "id": "131e48d8",
   "metadata": {
    "collapsed": true
   },
   "outputs": [
    {
     "ename": "ImportError",
     "evalue": "cannot import name 'plot_confusion_matrix' from 'sklearn.metrics' (/Users/yuxianwang/anaconda3/lib/python3.11/site-packages/sklearn/metrics/__init__.py)",
     "output_type": "error",
     "traceback": [
      "\u001b[0;31m---------------------------------------------------------------------------\u001b[0m",
      "\u001b[0;31mImportError\u001b[0m                               Traceback (most recent call last)",
      "Cell \u001b[0;32mIn[1], line 8\u001b[0m\n\u001b[1;32m      6\u001b[0m \u001b[38;5;28;01mfrom\u001b[39;00m \u001b[38;5;21;01msklearn\u001b[39;00m\u001b[38;5;21;01m.\u001b[39;00m\u001b[38;5;21;01mmodel_selection\u001b[39;00m \u001b[38;5;28;01mimport\u001b[39;00m GridSearchCV \u001b[38;5;66;03m#cross validation\u001b[39;00m\n\u001b[1;32m      7\u001b[0m \u001b[38;5;28;01mfrom\u001b[39;00m \u001b[38;5;21;01msklearn\u001b[39;00m\u001b[38;5;21;01m.\u001b[39;00m\u001b[38;5;21;01mmetrics\u001b[39;00m \u001b[38;5;28;01mimport\u001b[39;00m confusion_matrix \n\u001b[0;32m----> 8\u001b[0m \u001b[38;5;28;01mfrom\u001b[39;00m \u001b[38;5;21;01msklearn\u001b[39;00m\u001b[38;5;21;01m.\u001b[39;00m\u001b[38;5;21;01mmetrics\u001b[39;00m \u001b[38;5;28;01mimport\u001b[39;00m plot_confusion_matrix\n",
      "\u001b[0;31mImportError\u001b[0m: cannot import name 'plot_confusion_matrix' from 'sklearn.metrics' (/Users/yuxianwang/anaconda3/lib/python3.11/site-packages/sklearn/metrics/__init__.py)"
     ]
    }
   ],
   "source": [
    "import pandas as pd #data and one-hot encoding\n",
    "import numpy as np\n",
    "import xgboost as xgb\n",
    "from sklearn.model_selection import train_test_split #split the data for training and testing sets\n",
    "from sklearn.metrics import balanced_accuracy_score, roc_auc_score, make_scorer #for evulation\n",
    "from sklearn.model_selection import GridSearchCV #cross validation\n",
    "from sklearn.metrics import confusion_matrix \n",
    "from sklearn.metrics import plot_confusion_matrix\n"
   ]
  },
  {
   "cell_type": "code",
   "execution_count": null,
   "id": "c0a71387",
   "metadata": {},
   "outputs": [],
   "source": [
    "df = pd.read_csv('xxxx.csv')"
   ]
  },
  {
   "cell_type": "code",
   "execution_count": null,
   "id": "6a5d75a6",
   "metadata": {},
   "outputs": [],
   "source": [
    "df.head()"
   ]
  },
  {
   "cell_type": "code",
   "execution_count": null,
   "id": "9b17f09c",
   "metadata": {},
   "outputs": [],
   "source": [
    "df.drop(['x1','x2','x3','x4'], axis = 1,inplace = True) #drop columns\n",
    "#axis = 0 rows, axis =1 columns \n",
    "df.head()"
   ]
  },
  {
   "cell_type": "code",
   "execution_count": null,
   "id": "aac3d762",
   "metadata": {},
   "outputs": [],
   "source": [
    "df['Count'].unique()\n",
    "df['Country'].unique()\n",
    "df['State'].unique()"
   ]
  },
  {
   "cell_type": "markdown",
   "id": "c0712440",
   "metadata": {},
   "source": [
    "We cant have wightspace if we want to draw a tree. we need to replace them.\n"
   ]
  },
  {
   "cell_type": "code",
   "execution_count": null,
   "id": "060cd84b",
   "metadata": {},
   "outputs": [],
   "source": [
    "df['City'].replace(' ','_', regex = True, inplace = True)\n",
    "#regex 是否将替换操作视作正则表达式regular expression. \n",
    "#因此所有单个空格string将会被下划线取代"
   ]
  },
  {
   "cell_type": "code",
   "execution_count": null,
   "id": "4ec1a156",
   "metadata": {},
   "outputs": [],
   "source": [
    "df.columns = df.columns.str.replace(' ','_')\n",
    "#all columns"
   ]
  },
  {
   "cell_type": "markdown",
   "id": "49d964b5",
   "metadata": {},
   "source": [
    "Now we finish the missing data removing. Now we are ready to identify and deal with Missing Data "
   ]
  },
  {
   "cell_type": "markdown",
   "id": "33251a96",
   "metadata": {},
   "source": [
    "Part1. Identifying Missing Data"
   ]
  },
  {
   "cell_type": "code",
   "execution_count": 2,
   "id": "6e21a861",
   "metadata": {
    "collapsed": true
   },
   "outputs": [
    {
     "ename": "NameError",
     "evalue": "name 'df' is not defined",
     "output_type": "error",
     "traceback": [
      "\u001b[0;31m---------------------------------------------------------------------------\u001b[0m",
      "\u001b[0;31mNameError\u001b[0m                                 Traceback (most recent call last)",
      "Cell \u001b[0;32mIn[2], line 1\u001b[0m\n\u001b[0;32m----> 1\u001b[0m df\u001b[38;5;241m.\u001b[39mdtypes\n",
      "\u001b[0;31mNameError\u001b[0m: name 'df' is not defined"
     ]
    }
   ],
   "source": [
    "df.dtypes"
   ]
  },
  {
   "cell_type": "markdown",
   "id": "75e8e7f0",
   "metadata": {},
   "source": [
    "Part2. Deal with the missing data"
   ]
  },
  {
   "cell_type": "code",
   "execution_count": null,
   "id": "c0853503",
   "metadata": {},
   "outputs": [],
   "source": [
    "len(df.loc[df['x1'] ==' '])\n",
    "#how many rows are missing data"
   ]
  },
  {
   "cell_type": "code",
   "execution_count": null,
   "id": "d8a80155",
   "metadata": {},
   "outputs": [],
   "source": [
    "df.loc[df['x1'] == ' ']"
   ]
  },
  {
   "cell_type": "code",
   "execution_count": null,
   "id": "2c6dc710",
   "metadata": {},
   "outputs": [],
   "source": [
    "df.loc[df['x1'] == ' ', 'x1'] = 0\n",
    "#让空格的值等于0\n",
    "df['Total_Charges'] = df['Total_Charges'].apply(lambda x: 0 if x == ' ' else x)\n",
    "#这可以达到一样的效果"
   ]
  },
  {
   "cell_type": "code",
   "execution_count": null,
   "id": "2d2a0893",
   "metadata": {},
   "outputs": [],
   "source": [
    "df['x1'] = pd.to_numeric(df['x1']) \n",
    "#convert into number"
   ]
  },
  {
   "cell_type": "markdown",
   "id": "93169913",
   "metadata": {},
   "source": [
    "Format Data"
   ]
  },
  {
   "cell_type": "code",
   "execution_count": null,
   "id": "729e6399",
   "metadata": {},
   "outputs": [],
   "source": [
    "X = df.drop('target_value',axis=1).copy()\n",
    "#alternatively X=df_no_misssing.iloc[:,:-1]"
   ]
  },
  {
   "cell_type": "code",
   "execution_count": null,
   "id": "5d5c5d71",
   "metadata": {},
   "outputs": [],
   "source": [
    "y = df['target_value'].copy()"
   ]
  },
  {
   "cell_type": "code",
   "execution_count": 3,
   "id": "5fab20be",
   "metadata": {},
   "outputs": [],
   "source": [
    "#one-hot encoding"
   ]
  },
  {
   "cell_type": "code",
   "execution_count": null,
   "id": "c4809d6a",
   "metadata": {},
   "outputs": [],
   "source": [
    "X.dtypes"
   ]
  },
  {
   "cell_type": "code",
   "execution_count": null,
   "id": "b5229fc7",
   "metadata": {},
   "outputs": [],
   "source": [
    "pd.get_dummies(X,columns = ['x2']).head()"
   ]
  },
  {
   "cell_type": "code",
   "execution_count": null,
   "id": "744fb914",
   "metadata": {},
   "outputs": [],
   "source": [
    "X_encoded = pd.get_dummies(X, columns = ['x2','x3','x4'])\n",
    "X_encoded.head()\n",
    "#all the columns need to be one-hot encoding"
   ]
  },
  {
   "cell_type": "markdown",
   "id": "41320882",
   "metadata": {},
   "source": [
    "Build A Preliminary XGBoost Tree\n",
    "First, let's observe that this data is imbalanced by dividing the number of people who left the company, where y =1, by the number of people in the dataset"
   ]
  },
  {
   "cell_type": "code",
   "execution_count": null,
   "id": "b9b7b5c9",
   "metadata": {},
   "outputs": [],
   "source": [
    "sum(y)/len(y)\n",
    "#27% of people left the company"
   ]
  },
  {
   "cell_type": "code",
   "execution_count": null,
   "id": "c8aa20ce",
   "metadata": {},
   "outputs": [],
   "source": [
    "X_train, X_test, y_train, y_test = train_test_split(X_encoded, \n",
    "                                                    y, \n",
    "                                                    random_state = 42, \n",
    "                                                    stratify = y)\n",
    "#stratify=y确保了training set和testing set中y的分布是保持一致的"
   ]
  },
  {
   "cell_type": "code",
   "execution_count": null,
   "id": "6214fba5",
   "metadata": {},
   "outputs": [],
   "source": [
    "clf_xgb = xgb.XGBclassifier(objective = 'binary:logistic', \n",
    "                            missing = None,\n",
    "                            seed = 42)\n",
    "#XGBoost会将任务视为二分类问题，并使用逻辑回归作为损失函数。输出的结果是一个介于0和1之间的概率值，表示样本属于正类的概率。\n",
    "clf.xgb.fit（X_train,\n",
    "        y_train,\n",
    "        verbose = True,  #训练过程中每一轮（每一次迭代）的结果都会被打印出来。\n",
    "        early_stopping_round=10, \n",
    "        eval_meric ='aucpr',#“Precision-Recall AUC”，即精确率-召回率曲线下的面积。这是一个常用于不平衡分类问题的评估指标。\n",
    "        eval_set=[(X_test,y_test)]"
   ]
  },
  {
   "cell_type": "markdown",
   "id": "1eef4595",
   "metadata": {},
   "source": [
    "Evaluation "
   ]
  },
  {
   "cell_type": "code",
   "execution_count": null,
   "id": "69a784b8",
   "metadata": {},
   "outputs": [],
   "source": [
    "plot_confusion_martix(clf_xgb,\n",
    "                     X_test,\n",
    "                     y_test,\n",
    "                     values_format = 'd',\n",
    "                     display_labels = ['Did not leave','left'])"
   ]
  },
  {
   "cell_type": "markdown",
   "id": "386bac93",
   "metadata": {},
   "source": [
    "Optimize Parametes using Cross Validation and GridSearch()\n"
   ]
  },
  {
   "cell_type": "code",
   "execution_count": null,
   "id": "45c65d56",
   "metadata": {},
   "outputs": [],
   "source": [
    "param_grid = {\n",
    "    'max_depth':[3,4,5],\n",
    "    'learning_rate':[0.1,0.01,0.05],\n",
    "    'gamma':[0,0.25,1.0]\n",
    "    'reg_lambda':[0,1.0,10.0],\n",
    "    'scale_pos_weight':[1,3,5]\n",
    "}\n",
    "\n",
    "optimal_params=GridSearchCV(\n",
    "    estimator=xgb.XGBClassifier(objective ='binary:logistic',\n",
    "                               seed =42,\n",
    "                               subsample =0.9,#每棵树训练时使用的数据占比\n",
    "                               colsample_bytree=0.5),#每棵树训练时随机选择的特征占比\n",
    "    param_grid = param_grid\n",
    "    scoring = 'roc_auc',\n",
    "    verbose=0 #控制输出信息的详细程度。0表示不输出。\n",
    "    n_jobs=10 #并行运行的作业数量。10表示使用10个CPU核进行计算\n",
    "    cv=3 #交叉验证的折数。3表示使用3折交叉验证\n",
    ")"
   ]
  },
  {
   "cell_type": "markdown",
   "id": "7004212d",
   "metadata": {},
   "source": [
    "Build, Evaluating,Drawing,and Interpreting the optimal model"
   ]
  },
  {
   "cell_type": "code",
   "execution_count": null,
   "id": "251eb498",
   "metadata": {},
   "outputs": [],
   "source": [
    "clf_xgb=xgb.XGBClassifier(\n",
    "    seed=42,\n",
    "    objective = 'binary:logistic',\n",
    "    gamma=0.25,\n",
    "    learn_rate=0.1,\n",
    "    max_depth=4,\n",
    "    reg_lambda=10,\n",
    "    scale_pos_weight=3,#在XGBoost中用于处理类别不平衡问题，通过调整正类样本的权重，确保模型在训练过程中能够更加重视少数类样本，从而提高模型在不平衡数据集上的表现。设置该参数时，通常根据数据集中正类和负类样本的比例来确定其值。\n",
    "    subsample=0.9,\n",
    "    colsample_bytree=0.5\n",
    ")\n",
    "\n",
    "clf_xgb.fit(X_train,\n",
    "           y_train,\n",
    "           verbose=True,\n",
    "           early_stopping_round=10,\n",
    "           eval_meteric='aucpr',\n",
    "           eval_set = [(X_test,y_test)])"
   ]
  },
  {
   "cell_type": "code",
   "execution_count": null,
   "id": "c5190ab4",
   "metadata": {},
   "outputs": [],
   "source": [
    "plot_confusion_matrix(\n",
    "    clf_xgb,\n",
    "    X_test,\n",
    "    y_test,\n",
    "    values_format='d',\n",
    "    display_labels = ['Did not leave','left'])"
   ]
  },
  {
   "cell_type": "markdown",
   "id": "5dfed779",
   "metadata": {},
   "source": [
    "Draw the first XGBoost Tree"
   ]
  },
  {
   "cell_type": "code",
   "execution_count": null,
   "id": "f8308de7",
   "metadata": {},
   "outputs": [],
   "source": [
    "clf_xgb=xgb.XGBClassifier(\n",
    "    seed=42,\n",
    "    objective = 'binary:logistic',\n",
    "    gamma=0.25,\n",
    "    learn_rate=0.1,\n",
    "    max_depth=4,\n",
    "    reg_lambda=10,\n",
    "    scale_pos_weight=3,#在XGBoost中用于处理类别不平衡问题，通过调整正类样本的权重，确保模型在训练过程中能够更加重视少数类样本，从而提高模型在不平衡数据集上的表现。设置该参数时，通常根据数据集中正类和负类样本的比例来确定其值。\n",
    "    subsample=0.9,\n",
    "    colsample_bytree=0.5\n",
    ")\n",
    "\n",
    "clf_xgb.fit(X_train,\n",
    "           y_train)"
   ]
  },
  {
   "cell_type": "code",
   "execution_count": null,
   "id": "1c6997e9",
   "metadata": {},
   "outputs": [],
   "source": [
    "bst= clf_xgb.get_booster()\n",
    "for importance_type in ('weight','gain','cover','tptal_gain','total_cover'):\n",
    "    print('%s:'%importance_type,bsg.get_score(imporantce_type=importance_type))\n",
    "    \n",
    "    "
   ]
  },
  {
   "cell_type": "code",
   "execution_count": null,
   "id": "85ecaa25",
   "metadata": {},
   "outputs": [],
   "source": [
    "node_params = {\n",
    "    'shape'='box',\n",
    "    'style':'filled,rounded',\n",
    "    'fillcolor':'#78cbe'\n",
    "}\n",
    "\n",
    "leaf_params={\n",
    "    'shape'='box',\n",
    "    'style':'filled',\n",
    "    'fillcolor':'#e48038'\n",
    "}"
   ]
  },
  {
   "cell_type": "code",
   "execution_count": null,
   "id": "e4b8bcc3",
   "metadata": {},
   "outputs": [],
   "source": [
    "xgb.to_graphviz(clf_xgb,num_trees=0,size=\"10,10\",\n",
    "               confition_node_params=node_params,\n",
    "               leaf_node_params=leaf_params)"
   ]
  },
  {
   "cell_type": "code",
   "execution_count": null,
   "id": "43d2578c",
   "metadata": {},
   "outputs": [],
   "source": []
  },
  {
   "cell_type": "code",
   "execution_count": null,
   "id": "2c282f56",
   "metadata": {},
   "outputs": [],
   "source": []
  },
  {
   "cell_type": "code",
   "execution_count": null,
   "id": "f33b7c40",
   "metadata": {},
   "outputs": [],
   "source": []
  }
 ],
 "metadata": {
  "kernelspec": {
   "display_name": "Python 3 (ipykernel)",
   "language": "python",
   "name": "python3"
  },
  "language_info": {
   "codemirror_mode": {
    "name": "ipython",
    "version": 3
   },
   "file_extension": ".py",
   "mimetype": "text/x-python",
   "name": "python",
   "nbconvert_exporter": "python",
   "pygments_lexer": "ipython3",
   "version": "3.11.9"
  }
 },
 "nbformat": 4,
 "nbformat_minor": 5
}
