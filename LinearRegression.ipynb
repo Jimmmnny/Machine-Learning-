{
 "cells": [
  {
   "cell_type": "markdown",
   "id": "6d5a3a79-932e-4884-b87d-8dda667f5680",
   "metadata": {},
   "source": [
    "# 1. Import Libraries and loading data"
   ]
  },
  {
   "cell_type": "code",
   "execution_count": 8,
   "id": "23615380-6b39-48de-876c-413a15acd1d6",
   "metadata": {},
   "outputs": [],
   "source": [
    "import pandas\n",
    "import matplotlib.pyplot as plt\n",
    "import seaborn as sns\n",
    "from sklearn.model_selection import train_test_split\n",
    "from sklearn.linear_model import LinearRegression\n",
    "from sklearn.preprocessing import StandardScaler\n",
    "from sklearn.linear_model import Ridge, Lasso"
   ]
  },
  {
   "cell_type": "code",
   "execution_count": null,
   "id": "9414d7c1-5eb3-4428-981a-66502620105e",
   "metadata": {
    "scrolled": true
   },
   "outputs": [],
   "source": [
    "games = pandas.read_csv('game.csv.txt')"
   ]
  },
  {
   "cell_type": "code",
   "execution_count": null,
   "id": "269a4384-3a7b-470d-8796-538fbfa1d233",
   "metadata": {},
   "outputs": [],
   "source": [
    "games.columns\n",
    "games.shape\n",
    "games.describe\n",
    "games.isnull().any()"
   ]
  },
  {
   "cell_type": "code",
   "execution_count": null,
   "id": "9df35e17-d2bd-4864-bfc3-0ec34cb16cbe",
   "metadata": {},
   "outputs": [],
   "source": [
    "plt.hist(games['average_rating'])\n",
    "plt.show"
   ]
  },
  {
   "cell_type": "code",
   "execution_count": null,
   "id": "9956be8f-6706-4107-bf67-95d5d754494e",
   "metadata": {},
   "outputs": [],
   "source": [
    "# Print the first row of all the games with zero scores.\n",
    "# The .iloc method on dataframes allows us to index by position.\n",
    "print(games[games[\"average_rating\"] == 0].iloc[0])\n",
    "# Print the first row of all the games with scores greater than 0.\n",
    "print(games[games[\"average_rating\"] > 0].iloc[0])"
   ]
  },
  {
   "cell_type": "code",
   "execution_count": null,
   "id": "edea9e93-15c1-49e4-a711-ad1756097721",
   "metadata": {},
   "outputs": [],
   "source": [
    "# Remove any rows without user reviews.\n",
    "games = games[games[\"users_rated\"] > 0]\n",
    "# Remove any rows with missing values.\n",
    "games = games.dropna(axis=0)"
   ]
  },
  {
   "cell_type": "code",
   "execution_count": null,
   "id": "e4648d68-c9e9-41bb-b607-c902124904f7",
   "metadata": {},
   "outputs": [],
   "source": [
    "#correlation matrix\n",
    "corrmat = games.corr()\n",
    "sns.heatmap(corrmat, vmax=.8, square = True)\n",
    "plt.show()"
   ]
  },
  {
   "cell_type": "code",
   "execution_count": null,
   "id": "cdb1bdcd-bd4a-44da-943b-3fb277209e83",
   "metadata": {},
   "outputs": [],
   "source": [
    "#get all the columns from the dataframe\n",
    "columns = game.columns.tolist()\n",
    "\n",
    "#fitler the columns we want to use. Which means remove the columns we dont want\n",
    "columns = [c for c in columns if c not in [\"bayes_average_rating\", \"average_rating\", \"type\", \"name\", \"id\"]]\n",
    "\n",
    "#setting target\n",
    "target = 'average_rating'"
   ]
  },
  {
   "cell_type": "markdown",
   "id": "382d39a5-fe13-443d-824e-708726ed382d",
   "metadata": {},
   "source": [
    "# linear regression"
   ]
  },
  {
   "cell_type": "code",
   "execution_count": null,
   "id": "c17131da-6cf9-4f6d-8efc-06a37da84dc6",
   "metadata": {},
   "outputs": [],
   "source": [
    "#Split the training set and testing set\n",
    "from sklearn.cross_validation import train_test_split\n",
    "\n",
    "#X = game.drop('average_rating',axis=1)\n",
    "X = game[columns]\n",
    "y = game[target]\n",
    "\n",
    "X_train,X_test, y_train,y_test = train_test_split(X,y,test_size=0.2, random_state=42)\n",
    "\n",
    "scaler = StandarScaler()\n",
    "X_train_scaled = scaler.fit_transform(X_train)\n",
    "X_test_scaled = scaler.transorm(X_test)"
   ]
  },
  {
   "cell_type": "code",
   "execution_count": null,
   "id": "d4cdaa35-5a11-43f6-9f1d-ce15100c92e1",
   "metadata": {},
   "outputs": [],
   "source": [
    "from sklearn.linear_model import LinearRegression\n",
    "\n",
    "model = LinearRegression()\n",
    "model.fit(X_train_scaled,y_train)\n",
    "\n",
    "from sklearn.metrics import mean_squared_error\n",
    "\n",
    "predictions = model.predict(X_test_scaled)\n",
    "\n",
    "# Compute error between our test predictions and the actual values.\n",
    "mean_squared_error(predicitions, y_test)"
   ]
  },
  {
   "cell_type": "markdown",
   "id": "003c5ada-735a-40f4-9dae-35ff15fb25d7",
   "metadata": {},
   "source": [
    "## Lasso and Ridge"
   ]
  },
  {
   "cell_type": "code",
   "execution_count": null,
   "id": "4b5458a2-aae3-4ab8-b596-645c2246d0a5",
   "metadata": {},
   "outputs": [],
   "source": [
    "from sklearn.linear_model import RidgeCV, LassoCV\n"
   ]
  },
  {
   "cell_type": "code",
   "execution_count": null,
   "id": "9b0cfab9-e0bc-4b5d-b57e-63c0d092f511",
   "metadata": {},
   "outputs": [],
   "source": [
    "#Ridge\n",
    "alpha_space = np.logspace(-6,6,13)\n",
    "ridge_cv = RidgeCV(alphas=alpha_space,cv=5)\n",
    "ridge_cv.fit(X_train_scaled,y_train)\n",
    "print(f'optimal alpha for Ridge:{ridge_cv.alpha_}')\n",
    "\n",
    "#ridge_cv.fit will find the optimal alpha and re-train the model, we can use the predict directly \n",
    "ridge_cv_predictions = ridge_cv.predict(X_test_scaled)\n",
    "\n",
    "ridge_cv_mse = mean_squared_error(y_test,ridge_cv_precition)\n",
    "print(f'Ridge Regression with CV MSE: {ridge_cv_mse}')\n"
   ]
  },
  {
   "cell_type": "code",
   "execution_count": null,
   "id": "af7ceaa7-c6af-4e73-91c7-ab1801701427",
   "metadata": {},
   "outputs": [],
   "source": [
    "#Lasso\n",
    "lasso_cv = LassoCV(alphas = alpha_space, cv=5, random_state=42)\n",
    "lasso_cv.fit(X_train_scaled,y_train)\n",
    "print(f'Optimal alpha for Lasso: {lasso_cv.alpha_}') #Optimal alpha\n",
    "\n",
    "lasso_cv_predictions = lasso_cv.predict(X_test_scaled)\n",
    "lasso_cv_mse = mean_sqaured_error(y_test,lasso_cv_predicitions)\n",
    "print(f'Lasso Regression with CV MSE: {lasso_cv_mse}')"
   ]
  },
  {
   "cell_type": "markdown",
   "id": "8075d65b-61e7-4d6c-9f93-36560014f18f",
   "metadata": {},
   "source": [
    "When there are many features, number of features larger than the number of samples, if they are sparse, we should use Lasso, instead of Ridge regression."
   ]
  },
  {
   "cell_type": "code",
   "execution_count": null,
   "id": "150d48a7-1124-4b5c-afb7-976667a18e1f",
   "metadata": {},
   "outputs": [],
   "source": []
  },
  {
   "cell_type": "code",
   "execution_count": null,
   "id": "3d5ab291-50fa-479c-ae21-d400242fc5ce",
   "metadata": {},
   "outputs": [],
   "source": []
  },
  {
   "cell_type": "code",
   "execution_count": null,
   "id": "b6cffa58-69be-4920-a4c5-eaefb9d371bf",
   "metadata": {},
   "outputs": [],
   "source": []
  },
  {
   "cell_type": "code",
   "execution_count": null,
   "id": "ee23aa0f-8cbe-4620-8872-decd63a8361d",
   "metadata": {},
   "outputs": [],
   "source": []
  },
  {
   "cell_type": "code",
   "execution_count": null,
   "id": "cdd36e7b-a173-477e-b2d0-cf8b051ee90b",
   "metadata": {},
   "outputs": [],
   "source": []
  },
  {
   "cell_type": "code",
   "execution_count": null,
   "id": "8b1ce91d-9c0d-4788-b065-33365d2a1221",
   "metadata": {},
   "outputs": [],
   "source": []
  },
  {
   "cell_type": "code",
   "execution_count": null,
   "id": "1919a140-241b-47fb-9bc5-2e54212c1c54",
   "metadata": {},
   "outputs": [],
   "source": []
  }
 ],
 "metadata": {
  "kernelspec": {
   "display_name": "Python 3 (ipykernel)",
   "language": "python",
   "name": "python3"
  },
  "language_info": {
   "codemirror_mode": {
    "name": "ipython",
    "version": 3
   },
   "file_extension": ".py",
   "mimetype": "text/x-python",
   "name": "python",
   "nbconvert_exporter": "python",
   "pygments_lexer": "ipython3",
   "version": "3.12.4"
  }
 },
 "nbformat": 4,
 "nbformat_minor": 5
}
