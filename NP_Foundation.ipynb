{
 "cells": [
  {
   "cell_type": "code",
   "execution_count": 2,
   "id": "89f05841-4dad-4360-9f06-2735f6c374f0",
   "metadata": {},
   "outputs": [],
   "source": [
    "import numpy as np"
   ]
  },
  {
   "cell_type": "code",
   "execution_count": 4,
   "id": "0e7c7b8b-1376-4b6a-abc8-478c20ec7fd2",
   "metadata": {},
   "outputs": [
    {
     "name": "stdout",
     "output_type": "stream",
     "text": [
      "vector:[1 2 3 4]\n",
      "shape:(4,)\n",
      "Dim:1\n",
      "Data Type:int32\n"
     ]
    }
   ],
   "source": [
    "vector = np.array([1,2,3,4])\n",
    "print('vector:{}'.format(vector))\n",
    "print('shape:{}'.format(vector.shape))\n",
    "print('Dim:{}'.format(vector.ndim))\n",
    "print('Data Type:{}'.format(vector.dtype))"
   ]
  },
  {
   "cell_type": "code",
   "execution_count": 9,
   "id": "1a6809e2-6a7d-4d02-b445-8fa7a21ad011",
   "metadata": {},
   "outputs": [
    {
     "data": {
      "text/plain": [
       "array([[[ 1,  2],\n",
       "        [ 3,  4],\n",
       "        [ 5,  6]],\n",
       "\n",
       "       [[ 7,  8],\n",
       "        [ 9, 10],\n",
       "        [11, 12]]])"
      ]
     },
     "execution_count": 9,
     "metadata": {},
     "output_type": "execute_result"
    }
   ],
   "source": [
    "v = np.array([1,2,3,4,5,6,7,8,9,10,11,12])\n",
    "v.shape = (2,3,2)\n",
    "v"
   ]
  },
  {
   "cell_type": "code",
   "execution_count": 10,
   "id": "5b6541c2-63e8-457c-92f7-c2944ba9a207",
   "metadata": {},
   "outputs": [
    {
     "data": {
      "text/plain": [
       "array([[[0., 0.],\n",
       "        [0., 0.],\n",
       "        [0., 0.]],\n",
       "\n",
       "       [[0., 0.],\n",
       "        [0., 0.],\n",
       "        [0., 0.]]])"
      ]
     },
     "execution_count": 10,
     "metadata": {},
     "output_type": "execute_result"
    }
   ],
   "source": [
    "v = np.zeros((2,3,2))\n",
    "v"
   ]
  },
  {
   "cell_type": "code",
   "execution_count": 11,
   "id": "aac959c0-bd06-4204-8378-972a6cb14f1e",
   "metadata": {},
   "outputs": [
    {
     "data": {
      "text/plain": [
       "array([[[1., 1.],\n",
       "        [1., 1.],\n",
       "        [1., 1.]],\n",
       "\n",
       "       [[1., 1.],\n",
       "        [1., 1.],\n",
       "        [1., 1.]]])"
      ]
     },
     "execution_count": 11,
     "metadata": {},
     "output_type": "execute_result"
    }
   ],
   "source": [
    "v = np.ones((2,3,2))\n",
    "v"
   ]
  },
  {
   "cell_type": "markdown",
   "id": "5740aad1-4875-456a-9cfd-a783113859e1",
   "metadata": {},
   "source": [
    "Arange\n",
    "\n",
    "The arange function is similar to range function. The data type, if not specified, in many cases will be np.foat64"
   ]
  },
  {
   "cell_type": "code",
   "execution_count": 12,
   "id": "b86c13c4-a66a-48f9-bbfa-5f05f6095c18",
   "metadata": {},
   "outputs": [
    {
     "name": "stdout",
     "output_type": "stream",
     "text": [
      "[ 0  1  2  3  4  5  6  7  8  9 10 11 12 13 14]\n"
     ]
    }
   ],
   "source": [
    "a = np.arange(15)\n",
    "print(a)"
   ]
  },
  {
   "cell_type": "markdown",
   "id": "75374631-7b43-499a-98c6-9e340fd2aa17",
   "metadata": {},
   "source": [
    "zeros, zeros_like\n",
    "\r\n",
    "zeros(dim) will return a np.array of dim dimensions initialised with 0. Note that dim should be a tuple.\r\n",
    "\r\n",
    "zeros_like(array) will return a np.array of same dimensions as of array initialised with zeros.\r\n",
    "\r\n",
    "same functionality is with ones , and ones_like except of course the initialization is done with ones.\r\n",
    "same functionality with empty, and empty_like which will create numpy arrays but won't initialise it with anything (hence, faster) By default, all the values in the array will have garbage values."
   ]
  },
  {
   "cell_type": "code",
   "execution_count": 3,
   "id": "a7437028-5934-4b8f-9207-99d6a7c42b77",
   "metadata": {},
   "outputs": [
    {
     "name": "stdout",
     "output_type": "stream",
     "text": [
      "Zeros\n",
      "A: [[0. 0. 0.]\n",
      " [0. 0. 0.]\n",
      " [0. 0. 0.]]\n",
      "B: [[0. 0. 0.]\n",
      " [0. 0. 0.]\n",
      " [0. 0. 0.]]\n",
      "\n",
      "Ones\n",
      "A: [[1. 1. 1.]\n",
      " [1. 1. 1.]\n",
      " [1. 1. 1.]]\n",
      "B: [[1. 1. 1.]\n",
      " [1. 1. 1.]\n",
      " [1. 1. 1.]]\n",
      "\n",
      "Empty\n",
      "A: [[1. 1. 1.]\n",
      " [1. 1. 1.]\n",
      " [1. 1. 1.]]\n",
      "B: [[1. 1. 1.]\n",
      " [1. 1. 1.]\n",
      " [1. 1. 1.]]\n"
     ]
    }
   ],
   "source": [
    "print(\"Zeros\")\n",
    "a = np.zeros((3, 3))\n",
    "print(\"A: {}\".format(a))\n",
    "b = np.zeros_like(a)\n",
    "print(\"B: {}\".format(b))\n",
    "print(\"\\nOnes\")\n",
    "a = np.ones((3, 3))\n",
    "print(\"A: {}\".format(a))\n",
    "b = np.ones_like(a)\n",
    "print(\"B: {}\".format(b))\n",
    "print(\"\\nEmpty\")\n",
    "a = np.empty((3, 3))\n",
    "print(\"A: {}\".format(a))\n",
    "b = np.empty_like(a)\n",
    "print(\"B: {}\".format(b))"
   ]
  },
  {
   "cell_type": "code",
   "execution_count": null,
   "id": "5d5215d3-7d5c-4462-8763-f798f5e18410",
   "metadata": {},
   "outputs": [],
   "source": []
  },
  {
   "cell_type": "markdown",
   "id": "49350332-b365-4c1f-b858-9e8edf470c40",
   "metadata": {},
   "source": [
    "Astype"
   ]
  },
  {
   "cell_type": "code",
   "execution_count": 6,
   "id": "80f2d9ef-6819-4014-a9a3-baf9e2b73618",
   "metadata": {},
   "outputs": [
    {
     "name": "stdout",
     "output_type": "stream",
     "text": [
      "A:[1.  2.  3.  4.5 6.7],dtype:float64\n",
      "B:[1 2 3 4 6],dtype:int32\n"
     ]
    }
   ],
   "source": [
    "a = np.array([1,2,3,4.5,6.7])\n",
    "print('A:{},dtype:{}'.format(a,a.dtype))\n",
    "b = a.astype(int)\n",
    "print('B:{},dtype:{}'.format(b,b.dtype))"
   ]
  },
  {
   "cell_type": "code",
   "execution_count": 7,
   "id": "07aef7de-e384-486a-b021-0343359112a3",
   "metadata": {},
   "outputs": [
    {
     "name": "stdout",
     "output_type": "stream",
     "text": [
      "[[5 7 9]\n",
      " [5 7 9]]\n",
      "[[ 4 10 18]\n",
      " [ 4 10 18]]\n",
      "[[-3 -3 -3]\n",
      " [ 3  3  3]]\n"
     ]
    }
   ],
   "source": [
    "a = np.array([[1,2,3],[4,5,6]])\n",
    "b = np.array([[4,5,6],[1,2,3]])\n",
    "c= a+b\n",
    "print(c)\n",
    "\n",
    "c = a*b\n",
    "print(c)\n",
    "\n",
    "c= a-b\n",
    "print(c)"
   ]
  },
  {
   "cell_type": "code",
   "execution_count": 9,
   "id": "90f26471-4fff-4d6d-bdc4-9e2cd29ecc60",
   "metadata": {},
   "outputs": [
    {
     "name": "stdout",
     "output_type": "stream",
     "text": [
      "[[7 8 9]\n",
      " [4 5 6]]\n",
      "[[12 15 18]\n",
      " [ 3  6  9]]\n",
      "[[-1 -2 -3]\n",
      " [ 2  1  0]]\n"
     ]
    }
   ],
   "source": [
    "a = 3\n",
    "b = np.array([[4,5,6],[1,2,3]])\n",
    "\n",
    "c = a+b\n",
    "print(c)\n",
    "\n",
    "c= a*b\n",
    "print(c)\n",
    "\n",
    "c = a-b\n",
    "print(c)"
   ]
  },
  {
   "cell_type": "code",
   "execution_count": 10,
   "id": "e1f29a15-7c13-4812-a52a-9de75c507989",
   "metadata": {},
   "outputs": [
    {
     "name": "stdout",
     "output_type": "stream",
     "text": [
      "[ 0  1  2  3  4  5  6  7  8  9 10 11 12 13 14 15 16 17 18 19]\n",
      "[ 0  1  2  3  4  5  6  7  8  9  5  5  5  5  5 15 16 17 18 19]\n"
     ]
    }
   ],
   "source": [
    "a = np.arange(20)\n",
    "print(a)\n",
    "a[10:15] = 5\n",
    "print(a)"
   ]
  },
  {
   "cell_type": "markdown",
   "id": "6043f132-04ea-4864-9a58-ab6347c1dd96",
   "metadata": {},
   "source": [
    "If you want to avoid above scenario, you can use copy()\n",
    "\n"
   ]
  },
  {
   "cell_type": "code",
   "execution_count": 12,
   "id": "f7bc79f1-f29a-4bc6-a634-abe94fc6db14",
   "metadata": {},
   "outputs": [
    {
     "name": "stdout",
     "output_type": "stream",
     "text": [
      "[ 0  1  2  3  4  5  6  7  8  9 10 11 12 13 14 15 16 17 18 19]\n",
      "[ 0  1  2  3  4  5  6  7  8  9 10 11 12 13 14 15 16 17 18 19]\n"
     ]
    }
   ],
   "source": [
    "a = np.arange(20)\n",
    "print(a)\n",
    "b = a[10:15].copy()\n",
    "b = 5\n",
    "print(a)"
   ]
  },
  {
   "cell_type": "code",
   "execution_count": 15,
   "id": "863b746a-fdaf-4946-81d5-a475ce909066",
   "metadata": {},
   "outputs": [
    {
     "name": "stdout",
     "output_type": "stream",
     "text": [
      "[[1 2 3]\n",
      " [4 5 6]\n",
      " [7 8 9]]\n",
      "[1 4 7]\n",
      "[1 2 3]\n"
     ]
    }
   ],
   "source": [
    "arr2d = np.array([[1,2,3],[4,5,6],[7,8,9]])\n",
    "print(arr2d)\n",
    "\n",
    "print(arr2d[:,0]) #all rows, first column\n",
    "print(arr2d[0,:]) #first row, all columns "
   ]
  },
  {
   "cell_type": "markdown",
   "id": "485835d9-c836-4034-aee5-851dd386a233",
   "metadata": {},
   "source": [
    "Boolean indexing"
   ]
  },
  {
   "cell_type": "code",
   "execution_count": 17,
   "id": "2c2f8422-b129-4192-8d46-df4ffbe6a0a9",
   "metadata": {},
   "outputs": [
    {
     "data": {
      "text/plain": [
       "array([ True, False, False, False, False])"
      ]
     },
     "execution_count": 17,
     "metadata": {},
     "output_type": "execute_result"
    }
   ],
   "source": [
    "a = np.array([\"Mayur\", \"is\", \"an\", \"awesome\", \"coder\"])\n",
    "a == 'Mayur'"
   ]
  },
  {
   "cell_type": "code",
   "execution_count": 18,
   "id": "ade2e4b8-c54a-4b84-89ee-f2fa268b19c2",
   "metadata": {},
   "outputs": [
    {
     "data": {
      "text/plain": [
       "array(['is', 'an', 'awesome', 'coder'], dtype='<U7')"
      ]
     },
     "execution_count": 18,
     "metadata": {},
     "output_type": "execute_result"
    }
   ],
   "source": [
    "#lists entry where value != 'Mayur'\n",
    "a[~(a=='Mayur')]"
   ]
  },
  {
   "cell_type": "code",
   "execution_count": 19,
   "id": "bd45d1cd-5be1-4d69-b871-b74a7e3bb075",
   "metadata": {},
   "outputs": [
    {
     "data": {
      "text/plain": [
       "array([ True, False, False, False,  True])"
      ]
     },
     "execution_count": 19,
     "metadata": {},
     "output_type": "execute_result"
    }
   ],
   "source": [
    "(a =='Mayur') | (a =='coder')"
   ]
  },
  {
   "cell_type": "code",
   "execution_count": 20,
   "id": "fd89d17e-10fe-430a-bf35-046bc0b22237",
   "metadata": {},
   "outputs": [
    {
     "name": "stdout",
     "output_type": "stream",
     "text": [
      "[[1 1 1]\n",
      " [2 2 2]\n",
      " [3 3 3]\n",
      " [4 4 4]]\n"
     ]
    },
    {
     "data": {
      "text/plain": [
       "array([[2, 2, 2],\n",
       "       [4, 4, 4],\n",
       "       [3, 3, 3]])"
      ]
     },
     "execution_count": 20,
     "metadata": {},
     "output_type": "execute_result"
    }
   ],
   "source": [
    "a = np.array([[1,1,1],[2,2,2],[3,3,3],[4,4,4]])\n",
    "print(a)\n",
    "a[[1,3,2]] #it means 1st row, 3rd row, 2nd row"
   ]
  },
  {
   "cell_type": "markdown",
   "id": "f1befbad-da1b-45a3-be7a-dc4f83a48bbb",
   "metadata": {},
   "source": [
    "Transposing"
   ]
  },
  {
   "cell_type": "code",
   "execution_count": 21,
   "id": "2c08c106-5a23-4b45-bf14-7b043428a68b",
   "metadata": {},
   "outputs": [
    {
     "name": "stdout",
     "output_type": "stream",
     "text": [
      "[[1 2 3 4]\n",
      " [1 2 3 4]\n",
      " [1 2 3 4]]\n"
     ]
    }
   ],
   "source": [
    "a = np.array([[1,1,1],[2,2,2],[3,3,3],[4,4,4]])\n",
    "print(a.T)"
   ]
  },
  {
   "cell_type": "markdown",
   "id": "d8062f1e-53c9-46fa-80f8-55353a7df3d5",
   "metadata": {},
   "source": [
    "Universal Functions\n"
   ]
  },
  {
   "cell_type": "code",
   "execution_count": 22,
   "id": "ed9c62a4-8fe1-4e2c-8098-9d9c8ff1ddb9",
   "metadata": {},
   "outputs": [
    {
     "name": "stdout",
     "output_type": "stream",
     "text": [
      "485165195.4097903\n",
      "[[2.22439436 1.03191577]\n",
      " [1.21186321 1.51316712]]\n"
     ]
    }
   ],
   "source": [
    "a = 20\n",
    "b = np.random.rand(2,2)\n",
    "print(np.exp(a))\n",
    "print(np.exp(b))"
   ]
  },
  {
   "cell_type": "markdown",
   "id": "bcb978ce-cc1e-4450-a9d5-ec81fc378c91",
   "metadata": {},
   "source": [
    "meshgrid"
   ]
  },
  {
   "cell_type": "markdown",
   "id": "75a5b23d-00c0-410c-b200-a4746e5bdc8e",
   "metadata": {},
   "source": [
    "One of the most useful function is meshgrid. It's used to visualize data boundaries of your classifier. What you do is train your classifier, then create a meshgrid of every pixel in the plot, and then classify the pixel. When you give the pixel a specific color according to the labelled class you can clearly visualize the boundaries.\n",
    "\n",
    "Using meshgrid requires three steps.\n",
    "\n",
    "1.Create xs (1D array)\n",
    "\n",
    "2.Create ys (1D array)\n",
    "\n",
    "3.Create meshgrid (2D array) which corresponds to every pixel in the graph."
   ]
  },
  {
   "cell_type": "code",
   "execution_count": 24,
   "id": "18160b5a-2b0c-4d41-99dc-7f2b31437600",
   "metadata": {},
   "outputs": [
    {
     "data": {
      "text/plain": [
       "(array([[ 1.        ,  1.09090909,  1.18181818, ...,  9.81818182,\n",
       "          9.90909091, 10.        ],\n",
       "        [ 1.        ,  1.09090909,  1.18181818, ...,  9.81818182,\n",
       "          9.90909091, 10.        ],\n",
       "        [ 1.        ,  1.09090909,  1.18181818, ...,  9.81818182,\n",
       "          9.90909091, 10.        ],\n",
       "        ...,\n",
       "        [ 1.        ,  1.09090909,  1.18181818, ...,  9.81818182,\n",
       "          9.90909091, 10.        ],\n",
       "        [ 1.        ,  1.09090909,  1.18181818, ...,  9.81818182,\n",
       "          9.90909091, 10.        ],\n",
       "        [ 1.        ,  1.09090909,  1.18181818, ...,  9.81818182,\n",
       "          9.90909091, 10.        ]]),\n",
       " array([[ 1.        ,  1.        ,  1.        , ...,  1.        ,\n",
       "          1.        ,  1.        ],\n",
       "        [ 1.09090909,  1.09090909,  1.09090909, ...,  1.09090909,\n",
       "          1.09090909,  1.09090909],\n",
       "        [ 1.18181818,  1.18181818,  1.18181818, ...,  1.18181818,\n",
       "          1.18181818,  1.18181818],\n",
       "        ...,\n",
       "        [ 9.81818182,  9.81818182,  9.81818182, ...,  9.81818182,\n",
       "          9.81818182,  9.81818182],\n",
       "        [ 9.90909091,  9.90909091,  9.90909091, ...,  9.90909091,\n",
       "          9.90909091,  9.90909091],\n",
       "        [10.        , 10.        , 10.        , ..., 10.        ,\n",
       "         10.        , 10.        ]]))"
      ]
     },
     "execution_count": 24,
     "metadata": {},
     "output_type": "execute_result"
    }
   ],
   "source": [
    "xs =np.linspace(1,10,100)\n",
    "ys = np.linspace(1,10,100)\n",
    "\n",
    "xx,yy = np.meshgrid(xs,ys)\n",
    "xx,yy\n",
    "#plot with xx and yy"
   ]
  },
  {
   "cell_type": "markdown",
   "id": "97a6f838-9907-4cba-9d30-bc2a519b6753",
   "metadata": {},
   "source": [
    "where\n",
    "\n",
    "if you have 3 arrays x, y, and condition then, np.where is replacement for using:\n",
    "\n",
    "if condition: \n",
    "\n",
    "    use x\n",
    "    \n",
    "else:\n",
    "\n",
    "    use y"
   ]
  },
  {
   "cell_type": "code",
   "execution_count": 25,
   "id": "6767f2c9-4d73-43f0-b054-6fddb56bec46",
   "metadata": {},
   "outputs": [
    {
     "data": {
      "text/plain": [
       "array([ 0,  3,  2,  3,  2, -5])"
      ]
     },
     "execution_count": 25,
     "metadata": {},
     "output_type": "execute_result"
    }
   ],
   "source": [
    "a = [0, -1, 2, 3, -4, -5]\n",
    "b = [9, 3, 4, 11, 2, 3]\n",
    "c = [True, False, True, True, False, True]\n",
    "np.where(c, a, b)\n",
    "#if c, then a, else b. The first one is True, so we use 0 from a, the second one is False, we use 3 from b."
   ]
  },
  {
   "cell_type": "markdown",
   "id": "3d1a296f-e82c-426e-b5f8-8108d13cff89",
   "metadata": {},
   "source": [
    "Mean, sum, std"
   ]
  },
  {
   "cell_type": "code",
   "execution_count": 27,
   "id": "3306624f-6045-4b16-be94-2afc46449e49",
   "metadata": {},
   "outputs": [
    {
     "name": "stdout",
     "output_type": "stream",
     "text": [
      "[[0.94370032 0.89965843 0.0818535 ]\n",
      " [0.38881269 0.59646802 0.79554422]\n",
      " [0.95908005 0.75774381 0.5563255 ]]\n",
      "0.6643540595530477\n",
      "0.6643540595530477\n",
      "0.27440987684923546\n"
     ]
    }
   ],
   "source": [
    "a = np.random.rand(3,3)\n",
    "print(a)\n",
    "print(np.mean(a))\n",
    "print(a.mean())\n",
    "\n",
    "print(np.std(a))"
   ]
  },
  {
   "cell_type": "code",
   "execution_count": null,
   "id": "87252f68-a7fe-4dfe-b0ed-85d271d0d78b",
   "metadata": {},
   "outputs": [],
   "source": []
  },
  {
   "cell_type": "code",
   "execution_count": null,
   "id": "3de1cb53-3a70-47cb-bbd0-5d58a1d09c53",
   "metadata": {},
   "outputs": [],
   "source": []
  },
  {
   "cell_type": "code",
   "execution_count": null,
   "id": "adef9952-0b2f-4a9f-b23a-851b718c6ceb",
   "metadata": {},
   "outputs": [],
   "source": []
  },
  {
   "cell_type": "code",
   "execution_count": null,
   "id": "f08208ba-3324-4357-bda8-bd99f6dfe8e9",
   "metadata": {},
   "outputs": [],
   "source": []
  },
  {
   "cell_type": "code",
   "execution_count": null,
   "id": "6e6869d5-468a-4996-b1bd-04ed187eab7a",
   "metadata": {},
   "outputs": [],
   "source": []
  },
  {
   "cell_type": "code",
   "execution_count": null,
   "id": "8b3fc38c-32a8-4274-be7a-2690eb4d9276",
   "metadata": {},
   "outputs": [],
   "source": []
  },
  {
   "cell_type": "code",
   "execution_count": null,
   "id": "4b8aeb7c-c6e2-420d-9ba5-d11e33680b6a",
   "metadata": {},
   "outputs": [],
   "source": []
  }
 ],
 "metadata": {
  "kernelspec": {
   "display_name": "Python 3 (ipykernel)",
   "language": "python",
   "name": "python3"
  },
  "language_info": {
   "codemirror_mode": {
    "name": "ipython",
    "version": 3
   },
   "file_extension": ".py",
   "mimetype": "text/x-python",
   "name": "python",
   "nbconvert_exporter": "python",
   "pygments_lexer": "ipython3",
   "version": "3.11.7"
  }
 },
 "nbformat": 4,
 "nbformat_minor": 5
}
