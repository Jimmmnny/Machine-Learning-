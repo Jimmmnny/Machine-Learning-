{
 "cells": [
  {
   "cell_type": "code",
   "execution_count": 3,
   "id": "2bcaefe2-e721-4ca0-b862-ca4b3bade99d",
   "metadata": {},
   "outputs": [],
   "source": [
    "import pandas as pd\n",
    "import numpy as np\n",
    "\n",
    "from sklearn.preprocessing import StandardScaler, Normalizer, MinMaxScaler"
   ]
  },
  {
   "cell_type": "markdown",
   "id": "1f995d7a-6e91-4da9-8294-fead77dca465",
   "metadata": {},
   "source": [
    "## Categorical data\n"
   ]
  },
  {
   "cell_type": "code",
   "execution_count": null,
   "id": "1dabf4eb-63a0-487a-9634-2c887450a8bb",
   "metadata": {},
   "outputs": [],
   "source": [
    "df = pd.read_csv('ds.csv')\n",
    "X = df.iloc[:,[:-1]].values\n",
    "y = df.iloc[:,3].values"
   ]
  },
  {
   "cell_type": "code",
   "execution_count": 8,
   "id": "a8a14904-68dc-49ba-b38c-ab7f8fa0871e",
   "metadata": {},
   "outputs": [],
   "source": [
    "from sklearn.impute import SimpleImputer\n",
    "#处理缺失值\n",
    "\n",
    "#使用中位数填补\n",
    "imputer = SimpleImputer(strategy = 'median')\n",
    "imputed_data = imputer.fit_transform(data)\n",
    "imputed_data\n",
    "\n",
    "#最频繁值填补缺失值\n",
    "imputer = SimpleImputer(strategy = 'most_frequent')\n",
    "imputed_data = imputer.fit_transform(data)\n",
    "\n",
    "#常数值\n",
    "imputer = SimpleImputer(strategy = 'constant', fill_value = 0)\n",
    "imputer_data = imputer.fit_transform(data)\n",
    "\n",
    "#mean\n",
    "imputer = SimpleImputer(strategy='mean')\n",
    "imputer_data = imputer.fit_transform(data)"
   ]
  },
  {
   "cell_type": "code",
   "execution_count": 10,
   "id": "5d0898e6-2af2-4a73-9f73-851d8768822b",
   "metadata": {},
   "outputs": [],
   "source": [
    "#Encoding categorical data\n",
    "from sklearn.preprocessing import LabelEncoder, OneHotEncoder\n",
    "#LabelEncoder用于将分类标签编码为数字\n",
    "#分类特征编码为独热编码\n",
    "\n",
    "labelencoder_X = LabelEncoder()\n",
    "X[:0] = labelencoder_X.fit_transform(X[:,0]) #例如[绿色，红色，蓝色] to [0,1,2]\n",
    "\n",
    "onehotencoder = OneHotEncoder(categories='auto') #将标签编码后的特征转换为one hot encoder如[0,1,2] to [1,0,0][0,1,0][0,0,1]\n",
    "X = onehotencoder.fit_transform(X).toarray()\n",
    "\n",
    "#Encoding the dependent variable\n",
    "labelencoder_y = LabelEncoder()\n",
    "y = labelencoder_y.fit_transform(y)"
   ]
  },
  {
   "cell_type": "markdown",
   "id": "a88ec9d6-45e5-47f6-90f6-37616223c6b9",
   "metadata": {},
   "source": [
    "## StandardScaler"
   ]
  },
  {
   "cell_type": "code",
   "execution_count": null,
   "id": "90534bdd-1f5d-4ba1-a0da-fcce44cb4ac3",
   "metadata": {},
   "outputs": [],
   "source": [
    "from sklearn.preprocessing import StandardScaler\n",
    "\n",
    "scaler = StandardScaler()\n",
    "X_train = scaler.fit_transform(X_train)\n",
    "X_test = scaler.fit_transform(X_test)"
   ]
  },
  {
   "cell_type": "code",
   "execution_count": null,
   "id": "b30609e0-7c71-4fc2-b20e-fd5efc0fea24",
   "metadata": {},
   "outputs": [],
   "source": []
  },
  {
   "cell_type": "code",
   "execution_count": null,
   "id": "752a82ce-f97d-4a4d-b117-ed36b93bbf6c",
   "metadata": {},
   "outputs": [],
   "source": []
  },
  {
   "cell_type": "code",
   "execution_count": null,
   "id": "8c2cdf73-50ac-457e-a35e-3b205734bbe2",
   "metadata": {},
   "outputs": [],
   "source": []
  }
 ],
 "metadata": {
  "kernelspec": {
   "display_name": "Python 3 (ipykernel)",
   "language": "python",
   "name": "python3"
  },
  "language_info": {
   "codemirror_mode": {
    "name": "ipython",
    "version": 3
   },
   "file_extension": ".py",
   "mimetype": "text/x-python",
   "name": "python",
   "nbconvert_exporter": "python",
   "pygments_lexer": "ipython3",
   "version": "3.12.4"
  }
 },
 "nbformat": 4,
 "nbformat_minor": 5
}
