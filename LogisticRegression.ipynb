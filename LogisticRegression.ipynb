{
 "cells": [
  {
   "cell_type": "code",
   "execution_count": 1,
   "id": "4e332b31-b4f9-4d35-a80c-4bb701fa4dd0",
   "metadata": {},
   "outputs": [],
   "source": [
    "import numpy as np\n",
    "import matplotlib.pyplot as plt\n",
    "import pandas as pd\n"
   ]
  },
  {
   "cell_type": "code",
   "execution_count": null,
   "id": "db4a7559-0ec7-487e-b2a7-ff1059f07629",
   "metadata": {},
   "outputs": [],
   "source": [
    "df = pd.read_csv('x.csv')\n",
    "X = df.iloc[:,[2,3]].values\n",
    "y= df.ilpc[:,4].values"
   ]
  },
  {
   "cell_type": "code",
   "execution_count": 7,
   "id": "1c458969-e586-4f18-bb72-02cc22e9e86c",
   "metadata": {},
   "outputs": [],
   "source": [
    "#split training and testing set\n",
    "from sklearn.model_selection import train_test_split\n",
    "X_train, X_test, y_train, y_test = train_test_split(X, y, test_size=0.2, random_state=0)\n"
   ]
  },
  {
   "cell_type": "code",
   "execution_count": null,
   "id": "14e47d96-3ac7-4d5c-b9b5-8f188788fc7a",
   "metadata": {},
   "outputs": [],
   "source": [
    "#feature scaling\n",
    "from sklearn.preprocessing import StandarScaler\n",
    "scaler = StandarScaler()\n",
    "X_train = scaler.fit_transform(X_train)\n",
    "X_test = scaler.fit_transform(X_test)"
   ]
  },
  {
   "cell_type": "code",
   "execution_count": 9,
   "id": "6c532ef0-1c07-4963-9765-5a107fe4dfad",
   "metadata": {},
   "outputs": [],
   "source": [
    "#Fitting the regression\n",
    "from sklearn.linear_model import LogisticRegression\n",
    "\n",
    "classifier = LogisticRegression(random_state=0)\n",
    "classfier.fit(X_train,y_train)\n",
    "\n",
    "#prediction\n",
    "y_pred = classifier.predict(X_test)"
   ]
  },
  {
   "cell_type": "code",
   "execution_count": null,
   "id": "5dac0855-a1a3-4625-886a-21fa2e2aacc1",
   "metadata": {},
   "outputs": [],
   "source": [
    "#Counfusion matrix\n",
    "from sklearn.metrics import confusion_matrix \n",
    "\n",
    "cm = confusion_matrix(y_test,y_pred)"
   ]
  },
  {
   "cell_type": "code",
   "execution_count": 11,
   "id": "e135b64b-edc3-45a2-ba3b-9dc8d8730398",
   "metadata": {},
   "outputs": [],
   "source": [
    "#visualization\n",
    "from matplotlib.colors import ListedColormap\n",
    "\n",
    "X_set,y_set = X_train,y_train\n",
    "X1,X2 = np.meshgrid(np.arange(start = X_set[:,0].min() -1 ,stop = X_set[:,0].max() +1, step = 0.01),\n",
    "                    np.arange(start = X_set[:,1].min() -1, stop = X_set[:,1].max() +1, step = 0.01))\n",
    "plt.contourf(X1,X2, clssifier.predict(np.array([X1.ravel(),X2.raval()]).T).reshape(X1.shape),\n",
    "             alpha = 0.75, cmap = ListedColormap(('red','green')))\n",
    "plt.xlim(X1.min(),X1.max())\n",
    "plt.ylim(X2.min(),X2.max())\n",
    "\n",
    "for i,j in enumerate(np.unique(y_set)):\n",
    "    plt.scatter(X_set[y_set == j,0], X_set[y_set ==j,1],\n",
    "                c = ListedColormap(('red','green'))(i),label=j)\n",
    "plt.title('Logistic Regression(Training set)')\n",
    "plt.xlabel('age')\n",
    "plt.ylabel('Estimated Salary')\n",
    "plt.legend()\n",
    "plt.show()"
   ]
  },
  {
   "cell_type": "markdown",
   "id": "21c86df1-1ae5-44b6-b6b0-61f7efaa9e72",
   "metadata": {},
   "source": [
    "这里使用np.meshgrid创建了两个网格矩阵X1和X2，用于绘制决策边界。网格的范围是X_set中两个特征值的最小值减1到最大值加1之间，步长为0.01。\n",
    "X1.ravel()和X2.ravel()将网格矩阵展平。\n",
    "\n",
    "np.array([X1.ravel(), X2.ravel()]).T将展平的网格点组合成一组二维点的数组。\n",
    "\n",
    "classifier.predict对这些点进行分类。\n",
    "\n",
    "reshape(X1.shape)将预测结果重新调整为网格的形状。\n",
    "\n",
    "plt.contourf绘制决策边界，使用颜色映射区分不同类别。\n",
    "\n",
    "np.unique(y_set)找到训练集中所有唯一的类别标签。\n",
    "\n",
    "enumerate对每个唯一类别进行枚举。\n",
    "\n",
    "plt.scatter绘制每个类别的散点图，使用不同的颜色。\n",
    "\n",
    "这段代码的主要功能是通过绘制训练集上的决策边界和数据点，展示Logistic回归分类器在训练集上的表现。通过使用网格点进行预测，并将预测结果绘制为颜色区域，可以直观地看到分类器的决策边界。然后将训练集的实际数据点叠加在图形上，以观察分类器的分类效果"
   ]
  },
  {
   "cell_type": "code",
   "execution_count": null,
   "id": "8c1ee863-277c-48dd-ad1f-f936af4ee4e8",
   "metadata": {},
   "outputs": [],
   "source": [
    "# Visualising the Test set results\n",
    "from matplotlib.colors import ListedColormap\n",
    "X_set, y_set = X_test, y_test\n",
    "X1, X2 = np.meshgrid(np.arange(start = X_set[:, 0].min() - 1, stop = X_set[:, 0].max() + 1, step = 0.01),\n",
    "                     np.arange(start = X_set[:, 1].min() - 1, stop = X_set[:, 1].max() + 1, step = 0.01))\n",
    "plt.contourf(X1, X2, classifier.predict(np.array([X1.ravel(), X2.ravel()]).T).reshape(X1.shape),\n",
    "             alpha = 0.75, cmap = ListedColormap(('red', 'green')))\n",
    "plt.xlim(X1.min(), X1.max())\n",
    "plt.ylim(X2.min(), X2.max())\n",
    "for i, j in enumerate(np.unique(y_set)):\n",
    "    plt.scatter(X_set[y_set == j, 0], X_set[y_set == j, 1],\n",
    "                c = ListedColormap(('red', 'green'))(i), label = j)\n",
    "plt.title('Logistic Regression (Test set)')\n",
    "plt.xlabel('Age')\n",
    "plt.ylabel('Estimated Salary')\n",
    "plt.legend()\n",
    "plt.show()"
   ]
  },
  {
   "cell_type": "code",
   "execution_count": null,
   "id": "ac45d30f-a2a2-4233-a0fb-a304fd38124c",
   "metadata": {},
   "outputs": [],
   "source": []
  },
  {
   "cell_type": "code",
   "execution_count": null,
   "id": "9e1b4de3-0e9b-4435-90e2-6deacd276f3a",
   "metadata": {},
   "outputs": [],
   "source": []
  },
  {
   "cell_type": "code",
   "execution_count": null,
   "id": "63b4505b-d7ef-4198-b766-95782c7e0593",
   "metadata": {},
   "outputs": [],
   "source": []
  },
  {
   "cell_type": "code",
   "execution_count": null,
   "id": "937b9ac5-7704-4494-80d6-d196dcb8e3fd",
   "metadata": {},
   "outputs": [],
   "source": []
  },
  {
   "cell_type": "code",
   "execution_count": null,
   "id": "da20d81c-08ba-421e-83cb-a242ef448b3c",
   "metadata": {},
   "outputs": [],
   "source": []
  },
  {
   "cell_type": "code",
   "execution_count": null,
   "id": "858fb745-73e8-4eb3-b5aa-ae70f0258b0d",
   "metadata": {},
   "outputs": [],
   "source": []
  },
  {
   "cell_type": "code",
   "execution_count": null,
   "id": "b8e16c2c-ebcf-43db-baac-4159ee716602",
   "metadata": {},
   "outputs": [],
   "source": []
  },
  {
   "cell_type": "code",
   "execution_count": null,
   "id": "17c5bec1-0d27-413f-abe9-513b93187525",
   "metadata": {},
   "outputs": [],
   "source": []
  }
 ],
 "metadata": {
  "kernelspec": {
   "display_name": "Python 3 (ipykernel)",
   "language": "python",
   "name": "python3"
  },
  "language_info": {
   "codemirror_mode": {
    "name": "ipython",
    "version": 3
   },
   "file_extension": ".py",
   "mimetype": "text/x-python",
   "name": "python",
   "nbconvert_exporter": "python",
   "pygments_lexer": "ipython3",
   "version": "3.12.4"
  }
 },
 "nbformat": 4,
 "nbformat_minor": 5
}
